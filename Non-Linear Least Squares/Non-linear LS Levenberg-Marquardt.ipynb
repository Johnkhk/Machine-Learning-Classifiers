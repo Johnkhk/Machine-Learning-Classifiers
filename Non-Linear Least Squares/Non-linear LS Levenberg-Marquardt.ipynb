{
 "cells": [
  {
   "cell_type": "code",
   "execution_count": 283,
   "metadata": {},
   "outputs": [],
   "source": [
    "import numpy as np\n",
    "import matplotlib.pyplot as plt\n",
    "from scipy.io import loadmat  \n",
    "from numpy import random\n",
    "lstsq = np.linalg.lstsq\n",
    "norm  = np.linalg.norm"
   ]
  },
  {
   "cell_type": "markdown",
   "metadata": {},
   "source": [
    "## i.) Generating Data, Levenberg-Marquardt Algorithm multiple runs implementation\n",
    "Experimenting with different initial values of lambda we scaled it by 10^-5 and chose a stopping criterion of the residual being close enough to 0. "
   ]
  },
  {
   "cell_type": "code",
   "execution_count": 341,
   "metadata": {
    "scrolled": false
   },
   "outputs": [],
   "source": [
    "def initialize(X, N):                  \n",
    "    k=3                     \n",
    "    X = random.randn(N,k) \n",
    "    Y=[]\n",
    "    for i in range(500):\n",
    "        Y.append(X[i][0]*X[i][1]+X[i][2])\n",
    "    Y = np.array(Y)\n",
    "    w = random.randn(16,1) \n",
    "    wk = random.randn(16,1) \n",
    "    lamb = random.randint(1, 10)\n",
    "    lambdak = random.randint(1, 10)\n",
    "    return lamb, lambdak, w, wk#, nn\n",
    "#xbar, lamb, lambdak, w, wk = initialize(X)\n",
    "def neural_net(X, w):\n",
    "    #nn = w[0]*np.tanh(w[1]*X[0]+w[2]*X[1]+w[3]*X[2]+w[4]) + w[5]*np.tanh(w[6]*X[0]+w[7]*X[1]+w[8]*X[2]+w[9]) + w[10]*np.tanh(w[11]*X[0]+w[12]*X[1]+w[13]*X[2]+w[14])+w[15]\n",
    "    stacked_nn = []\n",
    "    r=[]\n",
    "    for i in range(500):\n",
    "        entry = w[0]*np.tanh(w[1]*X[i][0]+w[2]*X[i][1]+w[3]*X[i][2]+w[4]) + w[5]*np.tanh(w[6]*X[i][0]+w[7]*X[i][1]+w[8]*X[i][2]+w[9]) + w[10]*np.tanh(w[11]*X[i][0]+w[12]*X[i][1]+w[13]*X[i][2]+w[14])+w[15]\n",
    "        stacked_nn.append(entry) #array of 500 elements each is a np array of 3\n",
    "        r.append(entry - y[i])\n",
    "    r = np.vstack(r)\n",
    "    r = r.reshape(500,1)\n",
    "    stacked_nn = np.vstack(stacked_nn)\n",
    "    stacked_nn = stacked_nn.reshape(500,1) \n",
    "    return stacked_nn, r # 500x3\n",
    "\n",
    "def jacobian(X, w):\n",
    "    dw1f = []\n",
    "    dw2f = []\n",
    "    dw3f = []\n",
    "    dw4f = []\n",
    "    dw5f = []\n",
    "    dw6f = []\n",
    "    dw7f = []\n",
    "    dw8f = []\n",
    "    dw9f = []\n",
    "    dw10f = []\n",
    "    dw11f = []\n",
    "    dw12f = []\n",
    "    dw13f = []\n",
    "    dw14f = []\n",
    "    dw15f = []\n",
    "    dw16f = []\n",
    "    Dfw = []\n",
    "    for i in range(500):\n",
    "        dw1f.append(np.tanh(w[1]*X[i][0]+w[2]*X[i][1]+w[3]*X[i][2]+w[4])) \n",
    "        dw2f.append(w[0]*X[i][0]*deriv_tanh(w[1]*X[i][0]+w[2]*X[i][1]+w[3]*X[i][2]+w[4]))\n",
    "        dw3f.append(w[0]*X[i][1]*deriv_tanh(w[1]*X[i][0]+w[2]*X[i][1]+w[3]*X[i][2]+w[4]))\n",
    "        dw4f.append(w[0]*X[i][2]*deriv_tanh(w[1]*X[i][0]+w[2]*X[i][1]+w[3]*X[i][2]+w[4]))\n",
    "        dw5f.append(w[0]*deriv_tanh(w[1]*X[i][0]+w[2]*X[i][1]+w[3]*X[i][2]+w[4]))\n",
    "        dw6f.append(np.tanh(w[6]*X[i][0]+w[7]*X[i][1]+w[8]*X[i][2]+w[9]))\n",
    "        dw7f.append(w[5]*X[i][0]*deriv_tanh(w[6]*X[i][0]+w[7]*X[i][1]+w[8]*X[i][2]+w[9]))\n",
    "        dw8f.append(w[5]*X[i][1]*deriv_tanh(w[6]*X[i][0]+w[7]*X[i][1]+w[8]*X[i][2]+w[9]))\n",
    "        dw9f.append(w[5]*X[i][2]*deriv_tanh(w[6]*X[i][0]+w[7]*X[i][1]+w[8]*X[i][2]+w[9]))\n",
    "        dw10f.append(w[5]*deriv_tanh(w[6]*X[i][0]+w[7]*X[i][1]+w[8]*X[i][2]+w[9]))\n",
    "        dw11f.append(np.tanh(w[6]*X[i][0]+w[7]*X[i][1]+w[8]*X[i][2]+w[9]))\n",
    "        dw12f.append(w[10]*X[i][0]*deriv_tanh(w[11]*X[i][0]+w[12]*X[i][1]+w[13]*X[i][2]+w[14]))\n",
    "        dw13f.append(w[10]*X[i][1]*deriv_tanh(w[11]*X[i][0]+w[12]*X[i][1]+w[13]*X[i][2]+w[14]))\n",
    "        dw14f.append(w[10]*X[i][2]*deriv_tanh(w[11]*X[i][0]+w[12]*X[i][1]+w[13]*X[i][2]+w[14]))\n",
    "        dw15f.append(w[11]*deriv_tanh(w[11]*X[i][0]+w[12]*X[i][1]+w[13]*X[i][2]+w[14]))\n",
    "        dw16f.append(np.array([1]))\n",
    "    Dfw.append(np.array(dw1f))\n",
    "    Dfw.append(np.array(dw2f))\n",
    "    Dfw.append(np.array(dw3f))\n",
    "    Dfw.append(np.array(dw4f))\n",
    "    Dfw.append(np.array(dw5f))\n",
    "    Dfw.append(np.array(dw6f))\n",
    "    Dfw.append(np.array(dw7f))\n",
    "    Dfw.append(np.array(dw8f))\n",
    "    Dfw.append(np.array(dw9f))\n",
    "    Dfw.append(np.array(dw10f))\n",
    "    Dfw.append(np.array(dw11f))\n",
    "    Dfw.append(np.array(dw12f))\n",
    "    Dfw.append(np.array(dw13f))\n",
    "    Dfw.append(np.array(dw14f))\n",
    "    Dfw.append(np.array(dw15f))\n",
    "    Dfw.append(np.array(dw16f))\n",
    "    #At this point array of 16 elements, each element is a 500x1 np array\n",
    "    \n",
    "    #print(len(dw15f))\n",
    "    #print(len(dw16f))\n",
    "    Dfw = np.vstack(Dfw)\n",
    "    Dfw = Dfw.reshape(500,16)\n",
    "    return Dfw #jacobian: 500X16 \n",
    "\n",
    "def question3b(Dfw, fw):\n",
    "    gradR = 2*np.dot(np.transpose(Dfw),fw)\n",
    "    return gradR\n",
    "\n",
    "def MOLS(Dfw, X, w, wk, lamb, lambdak): #Solves for 1 iteration given intial lambda and w\n",
    "    A1 = jacobian(X, wk)\n",
    "    b1 = np.dot(jacobian(X, wk),w) - (neural_net(X, wk)[1])\n",
    "    A2 = np.identity(16)\n",
    "    b2 = np.zeros((16,1))\n",
    "    A3 = np.identity(16)\n",
    "    b3 = wk\n",
    "    \n",
    "    A = []\n",
    "    b = []\n",
    "    \n",
    "    A.append(A1*np.sqrt(lamb))\n",
    "    A.append(A2*np.sqrt(lambdak))\n",
    "    A.append(A3)\n",
    "    A = np.vstack(A)\n",
    "    b.append(b1)\n",
    "    b.append(np.sqrt(lamb)*b2)\n",
    "    b.append(np.sqrt(lambdak)*b3)\n",
    "    b = np.vstack(b) # A, b are stacked matrices\n",
    "    \n",
    "    weights = lstsq(A, b, rcond=None)[0]\n",
    "    return weights\n",
    "\n",
    "def iterate(X, w, wk, lamb, lambdak):\n",
    "    lamb, lambdak, w, wk = initialize(X, N)\n",
    "    Dfw = jacobian(X, wk)\n",
    "    nn, r = neural_net(X,w)\n",
    "    gradR = 2*np.dot(np.transpose(Dfw),r)\n",
    "    w = MOLS(Dfw, X, w, wk, lamb, lambdak)\n",
    "    iterations = 20\n",
    "    store_w=[]\n",
    "    iterationaxis=[]\n",
    "    raxis = []\n",
    "    for i in range(iterations):\n",
    "        oldr = r\n",
    "        Dfw = jacobian(X, w)\n",
    "        nn, r = neural_net(X,w)\n",
    "        \n",
    "        iterationaxis.append(i)\n",
    "        raxis.append(norm(r))\n",
    "        if(norm(r)**2 <0.0001 or norm(gradR) <0.0001):\n",
    "            break\n",
    "        elif(norm(r)**2 < norm(oldr)**2):\n",
    "            lambdak=0.8*lambdak\n",
    "            w = MOLS(Dfw, X, w, wk, lamb, lambdak)\n",
    "            store_w.append(w)\n",
    "        else:\n",
    "            lambdak = 2*lambdak\n",
    "            #store_w.append(w)\n",
    "    iterationaxis=np.array(iterationaxis)\n",
    "    raxis = np.array(raxis)    \n",
    "    return store_w, iterationaxis, raxis\n",
    "\n",
    "def main(N):\n",
    "    lamb, lambdak, w, wk = initialize(X, N)\n",
    "    result, x, y= iterate(X, w, wk, lamb, lambdak)\n",
    "    fig,ax = plt.subplots(1)\n",
    "    ax.plot(x,y)\n",
    "    return result\n",
    "        \n",
    "    \n",
    "def deriv_tanh(x):\n",
    "    return 1.0 - np.tanh(x)**2"
   ]
  },
  {
   "cell_type": "markdown",
   "metadata": {},
   "source": [
    "## Testing the code\n",
    "Implementing mulyiple runs instead of a warm start, ran main to test the code, We can see a list of generated weights with the length of the list being iterations in which the condition that the norm got smaller was satisfied. This is because the only runs that are stored are satisfy this condition. "
   ]
  },
  {
   "cell_type": "code",
   "execution_count": 342,
   "metadata": {},
   "outputs": [
    {
     "name": "stdout",
     "output_type": "stream",
     "text": [
      "2\n",
      "(16, 1)\n"
     ]
    },
    {
     "data": {
      "image/png": "[encoded data removed]",
      "text/plain": [
       "<Figure size 432x288 with 1 Axes>"
      ]
     },
     "metadata": {
      "needs_background": "light"
     },
     "output_type": "display_data"
    }
   ],
   "source": [
    "a = main(500)\n",
    "#print(a)\n",
    "print(len(a))\n",
    "print(a[0].shape)"
   ]
  },
  {
   "cell_type": "markdown",
   "metadata": {},
   "source": [
    "## plotting value of training loss versus iterations\n",
    "fig,ax = plt.subplots(1)\n",
    "ax.plot(iterationaxis,raxis)"
   ]
  },
  {
   "cell_type": "markdown",
   "metadata": {},
   "source": [
    "## ii.) Testing model on another set of generated points\n",
    "Running main again reinitializes initial set of generated points"
   ]
  },
  {
   "cell_type": "code",
   "execution_count": null,
   "metadata": {},
   "outputs": [],
   "source": [
    "a = main(50)\n",
    "b = main(100)\n",
    "b = main(300)\n",
    "print(len(a))\n",
    "print(a[0].shape)"
   ]
  },
  {
   "cell_type": "code",
   "execution_count": null,
   "metadata": {},
   "outputs": [],
   "source": [
    " w = MOLS(Dfw, X, w, wk, 4, 9)\n",
    "\n",
    "print(A.shape)\n",
    "print(b.shape)\n",
    "print(w)"
   ]
  },
  {
   "cell_type": "markdown",
   "metadata": {},
   "source": [
    "## Training Data"
   ]
  },
  {
   "cell_type": "code",
   "execution_count": null,
   "metadata": {},
   "outputs": [],
   "source": []
  }
 ],
 "metadata": {
  "kernelspec": {
   "display_name": "Python 3",
   "language": "python",
   "name": "python3"
  },
  "language_info": {
   "codemirror_mode": {
    "name": "ipython",
    "version": 3
   },
   "file_extension": ".py",
   "mimetype": "text/x-python",
   "name": "python",
   "nbconvert_exporter": "python",
   "pygments_lexer": "ipython3",
   "version": "3.8.3"
  }
 },
 "nbformat": 4,
 "nbformat_minor": 4
}
